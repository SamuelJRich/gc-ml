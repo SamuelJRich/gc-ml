{
 "cells": [
  {
   "cell_type": "code",
   "execution_count": null,
   "metadata": {},
   "outputs": [],
   "source": [
    "import pandas as pd\n",
    "import numpy as np\n",
    "from sklearn.model_selection import train_test_split\n",
    "from catboost import CatBoostClassifier\n"
   ]
  },
  {
   "cell_type": "code",
   "execution_count": null,
   "metadata": {},
   "outputs": [],
   "source": [
    "df = pd.read_csv('main_ds.csv')\n",
    "print(\"Number of null values \", df.isnull().sum())\n"
   ]
  },
  {
   "cell_type": "code",
   "execution_count": null,
   "metadata": {},
   "outputs": [],
   "source": [
    "df = df.drop(columns=['Desc', 'Type', 'Level', 'Rating', 'RatingDesc' ])\n",
    "df = df.drop(columns=['Unnamed: 0'])\n",
    "print(df.head())"
   ]
  },
  {
   "cell_type": "code",
   "execution_count": null,
   "metadata": {},
   "outputs": [],
   "source": [
    "print(\"Number of null values \", df.isnull().sum())"
   ]
  },
  {
   "cell_type": "code",
   "execution_count": null,
   "metadata": {},
   "outputs": [],
   "source": [
    "df.dropna(inplace=True)\n",
    "print(\"Number of null values \", df.isnull().sum())"
   ]
  },
  {
   "cell_type": "code",
   "execution_count": null,
   "metadata": {},
   "outputs": [],
   "source": [
    "\n",
    "df.rename(columns={\n",
    "    'Title': 'ExerciseName',\n",
    "    'BodyPart': 'TargetMuscle',\n",
    "}, inplace=True)\n",
    "\n",
    "print(df.head())\n"
   ]
  },
  {
   "cell_type": "code",
   "execution_count": null,
   "metadata": {},
   "outputs": [],
   "source": [
    "print(df.columns)"
   ]
  },
  {
   "cell_type": "code",
   "execution_count": null,
   "metadata": {},
   "outputs": [],
   "source": [
    "print(\"Number of null values \", df.isnull().sum())"
   ]
  },
  {
   "cell_type": "code",
   "execution_count": null,
   "metadata": {},
   "outputs": [],
   "source": [
    "# See screenshot 'catboost results'\n",
    "\n",
    "target_output = 'ExerciseName'\n",
    "df.dropna(inplace=True)\n",
    "X = df.drop(columns=[target_output])\n",
    "y = df[target_output]\n",
    "\n",
    "X_train, X_test, y_train, y_test = train_test_split(X, y, test_size=0.2, random_state=30)\n",
    "\n",
    "\n",
    "categorical = ['TargetMuscle', 'Equipment']\n",
    "\n",
    "# Initialize CatBoost model\n",
    "catboost_model = CatBoostClassifier(\n",
    "    iterations=150,         # Number of boosting rounds\n",
    "    depth=6,               # Depth of trees\n",
    "    learning_rate=0.1,      # Learning rate\n",
    "    cat_features=categorical,\n",
    "    random_state=30,\n",
    "    verbose=15,\n",
    "    task_type='GPU', # Enables GPU Acceleration\n",
    "    devices = [0] # Use the first available GPU (Index of 0)\n",
    ")\n",
    "\n",
    "catboost_model.fit(X_train, y_train)\n"
   ]
  },
  {
   "cell_type": "code",
   "execution_count": null,
   "metadata": {},
   "outputs": [],
   "source": [
    "from sklearn.metrics import accuracy_score\n",
    "\n",
    "y_train_pred = catboost_model.predict(X_train)\n",
    "print(\"Training accuracy: \", accuracy_score(y_train, y_train_pred))\n",
    "\n",
    "y_test_pred = catboost_model.predict(X_test)\n",
    "print(\"Test accuracy: \", accuracy_score(y_test, y_test_pred))"
   ]
  }
 ],
 "metadata": {
  "jupytext": {
   "formats": "ipynb,py"
  },
  "kernelspec": {
   "display_name": "Python 3",
   "language": "python",
   "name": "python3"
  },
  "language_info": {
   "codemirror_mode": {
    "name": "ipython",
    "version": 3
   },
   "file_extension": ".py",
   "mimetype": "text/x-python",
   "name": "python",
   "nbconvert_exporter": "python",
   "pygments_lexer": "ipython3",
   "version": "3.12.1"
  }
 },
 "nbformat": 4,
 "nbformat_minor": 2
}
